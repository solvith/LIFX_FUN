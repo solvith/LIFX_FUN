{
 "cells": [
  {
   "cell_type": "markdown",
   "metadata": {},
   "source": [
    "# Initialization"
   ]
  },
  {
   "cell_type": "code",
   "execution_count": 8,
   "metadata": {
    "collapsed": false
   },
   "outputs": [],
   "source": [
    "LATLNG=(1.3774142,103.7719498) #latitude/Longtitude of Bukit Panjang\n",
    "API_KEY='c049d22655b1439a8695539e4c8e83c10e9c8aa52d6a154474b5455b799df956' #do not show\n",
    "BULBS='label:LIFX2'\n",
    "\n",
    "from pifx import PIFX\n",
    "import time\n",
    "import datetime\n",
    "from dateutil import parser\n",
    "from apscheduler.schedulers.background import BackgroundScheduler\n",
    "import requests\n",
    "from datetime import timezone\n",
    "\n",
    "#Useful functions\n",
    "def utc_to_local(utc_dt):\n",
    "    return utc_dt.replace(tzinfo=timezone.utc).astimezone(tz=None)\n",
    "def get_today_sunset(LATLNG=LATLNG):\n",
    "    response = requests.get('http://api.sunrise-sunset.org/json?lat='+LATLNG[0]+'&lng='+LATLNG[1])\n",
    "    if (response.json()['status']=='OK'):\n",
    "        sunset=response.json()['results']['sunset']\n",
    "        sunset_time=datetime.datetime.strptime(response.json()['results']['sunset'],'%I:%M:%S %p')\n",
    "        sunset_time=datetime.datetime.today().replace(hour=sunset_time.hour,minute=sunset_time.minute,second=sunset_time.second)\n",
    "        sunset_time=utc_to_local(sunset_time)\n",
    "        return(sunset_time)\n",
    "        \n",
    "    return(None)\n",
    "\n"
   ]
  },
  {
   "cell_type": "code",
   "execution_count": null,
   "metadata": {
    "collapsed": false
   },
   "outputs": [],
   "source": [
    "p = PIFX(API_KEY)\n",
    "sched = BackgroundScheduler()\n",
    "#p.list_lights()\n",
    "p.toggle_power()\n",
    "\n"
   ]
  },
  {
   "cell_type": "markdown",
   "metadata": {},
   "source": [
    "# logics for lights"
   ]
  },
  {
   "cell_type": "code",
   "execution_count": null,
   "metadata": {
    "collapsed": false
   },
   "outputs": [],
   "source": [
    "@sched.scheduled_job('cron',hour=23,minute=0)\n",
    "def switch_off(BULBS=BULBS):\n",
    "    print('[INFO] SWITCHING OFF LIGHTS @ 11pm')\n",
    "    return(p.set_state(selector=BULBS,power='off'))\n",
    "\n",
    "@sched.scheduled_job('cron',hour=6,minute=0)\n",
    "def sunset():\n",
    "    sunset=get_today_sunset()\n",
    "    print('[INFO] Morning.. I have set next sunset event @ '+str(sunset))\n",
    "    p.set_state(selector='d073d52130a0',power='on')\n",
    "    sched.add_job(lambda :p.set_state(selector=BULBS,brightness=0.8,duration=15*60,power='on'),\n",
    "                  'date',run_date=sunset)\n",
    "\n"
   ]
  },
  {
   "cell_type": "code",
   "execution_count": null,
   "metadata": {
    "collapsed": false
   },
   "outputs": [],
   "source": [
    "sched.start()"
   ]
  }
 ],
 "metadata": {
  "kernelspec": {
   "display_name": "Python 3",
   "language": "python",
   "name": "python3"
  },
  "language_info": {
   "codemirror_mode": {
    "name": "ipython",
    "version": 3
   },
   "file_extension": ".py",
   "mimetype": "text/x-python",
   "name": "python",
   "nbconvert_exporter": "python",
   "pygments_lexer": "ipython3",
   "version": "3.5.0"
  }
 },
 "nbformat": 4,
 "nbformat_minor": 0
}
